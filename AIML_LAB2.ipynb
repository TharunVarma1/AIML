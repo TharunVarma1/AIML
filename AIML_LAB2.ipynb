{
  "nbformat": 4,
  "nbformat_minor": 0,
  "metadata": {
    "colab": {
      "provenance": []
    },
    "kernelspec": {
      "name": "python3",
      "display_name": "Python 3"
    },
    "language_info": {
      "name": "python"
    }
  },
  "cells": [
    {
      "cell_type": "code",
      "source": [
        "# part 01\n",
        "import numpy as np\n",
        "from queue import Queue"
      ],
      "metadata": {
        "id": "ZJd3vvHyc7Fu"
      },
      "execution_count": null,
      "outputs": []
    },
    {
      "cell_type": "code",
      "source": [
        "graph = {\n",
        "    0:[1,2,3],\n",
        "    1:[0,2],\n",
        "    2:[0,1,3,5],\n",
        "    3:[0,2,4],\n",
        "    4:[3,5,7],\n",
        "    5:[4,6,7],\n",
        "    6:[5,7],\n",
        "    7:[4,5,6],\n",
        "    8:[]\n",
        "}\n",
        "print(\"The adjacency list respresenting the graph is:\")\n",
        "print(graph)"
      ],
      "metadata": {
        "colab": {
          "base_uri": "https://localhost:8080/"
        },
        "id": "bSefedVodBG4",
        "outputId": "73996ee6-2cb1-4cd7-b92e-818751c18c1c"
      },
      "execution_count": null,
      "outputs": [
        {
          "output_type": "stream",
          "name": "stdout",
          "text": [
            "The adjacency list respresenting the graph is:\n",
            "{0: [1, 2, 3], 1: [0, 2], 2: [0, 1, 3, 5], 3: [0, 2, 4], 4: [3, 5, 7], 5: [4, 6, 7], 6: [5, 7], 7: [4, 5, 6], 8: []}\n"
          ]
        }
      ]
    },
    {
      "cell_type": "code",
      "source": [
        "def bfs(graph, source):\n",
        "  Q = Queue()\n",
        "  visited_vertices = set()\n",
        "  Q.put(source)\n",
        "  visited_vertices.add(source)\n",
        "  while not Q.empty():\n",
        "   vertex = Q.get()\n",
        "   print(vertex, end=\"-->\")\n",
        "   for u in graph[vertex]:\n",
        "     if u not in visited_vertices:\n",
        "       Q.put(u)\n",
        "       visited_vertices.add(u)\n",
        "print(\"BFS traversal of graph with source 0 is:\")\n",
        "bfs(graph,0)"
      ],
      "metadata": {
        "colab": {
          "base_uri": "https://localhost:8080/"
        },
        "id": "fj5gHw6VdRLQ",
        "outputId": "73c7b790-47d8-4848-f397-189135b3bbf6"
      },
      "execution_count": null,
      "outputs": [
        {
          "output_type": "stream",
          "name": "stdout",
          "text": [
            "BFS traversal of graph with source 0 is:\n",
            "0-->1-->2-->3-->5-->4-->6-->7-->"
          ]
        }
      ]
    },
    {
      "cell_type": "code",
      "source": [
        "# part 02\n",
        "import numpy as np\n",
        "graph1={\n",
        "    'A':['C','D','G'],\n",
        "    'B':['A'],\n",
        "    'C':['A','D','F'],\n",
        "    'D':['A','C','E','G','H'],\n",
        "    'E':['D','F','H'],\n",
        "    'F':['C','E'],\n",
        "    'G':['A','D','H'],\n",
        "    'H':['D','E','G'],\n",
        "     }"
      ],
      "metadata": {
        "id": "sTI3yO7keAi1"
      },
      "execution_count": null,
      "outputs": []
    },
    {
      "cell_type": "code",
      "source": [
        "print(\"the adjaecncy list representing the graph 1\")\n",
        "print(graph1)"
      ],
      "metadata": {
        "colab": {
          "base_uri": "https://localhost:8080/"
        },
        "id": "HjImHY8neDDg",
        "outputId": "a998be46-0557-442a-b967-0250640f442a"
      },
      "execution_count": null,
      "outputs": [
        {
          "output_type": "stream",
          "name": "stdout",
          "text": [
            "the adjaecncy list representing the graph 1\n",
            "{'A': ['C', 'D', 'G'], 'B': ['A'], 'C': ['A', 'D', 'F'], 'D': ['A', 'C', 'E', 'G', 'H'], 'E': ['D', 'F', 'H'], 'F': ['C', 'E'], 'G': ['A', 'D', 'H'], 'H': ['D', 'E', 'G']}\n"
          ]
        }
      ]
    },
    {
      "cell_type": "code",
      "source": [
        "def dfs(graph, node, visited):\n",
        "    if node not in visited:\n",
        "        visited.append(node)\n",
        "        for k in graph[node]:\n",
        "            dfs(graph, k, visited)\n",
        "\n",
        "    return visited"
      ],
      "metadata": {
        "id": "YGD3OEfVeJlw"
      },
      "execution_count": null,
      "outputs": []
    },
    {
      "cell_type": "code",
      "source": [
        "visited = dfs(graph1, 'B' ,[])\n",
        "print(visited)"
      ],
      "metadata": {
        "colab": {
          "base_uri": "https://localhost:8080/"
        },
        "id": "ARTx3_yzeWc2",
        "outputId": "d679d814-9978-4ee3-e0df-56d7ea9c97ce"
      },
      "execution_count": null,
      "outputs": [
        {
          "output_type": "stream",
          "name": "stdout",
          "text": [
            "['B', 'A', 'C', 'D', 'E', 'F', 'H', 'G']\n"
          ]
        }
      ]
    },
    {
      "cell_type": "code",
      "source": [
        "import numpy as np\n",
        "from queue import Queue\n",
        "import heapq"
      ],
      "metadata": {
        "id": "yrXOePNQeYja"
      },
      "execution_count": null,
      "outputs": []
    },
    {
      "cell_type": "code",
      "source": [
        "def bestFirstSearch(initial_state, goal_state, evaluation_function):\n",
        "  priority_queue=[]\n",
        "  heapq.heappush(priority_queue, (evaluation_function(initial_state), initial_state))\n",
        "  while priority_queue:\n",
        "    current_state = heapq.heappop(priority_queue)[1]\n",
        "    if current_state == goal_state:\n",
        "      return current_state\n",
        "\n",
        "    next_states = generateNextStates(current_state)\n",
        "    for next_state in next_states:\n",
        "      priority_value=evaluation_function(next_state)\n",
        "      heapq.heappush(priority_queue,( priority_value, next_state))\n",
        "  return \"No Solution found\""
      ],
      "metadata": {
        "id": "EwWIdD46ehGv"
      },
      "execution_count": null,
      "outputs": []
    },
    {
      "cell_type": "code",
      "source": [
        "def evaluationfunction(state):\n",
        "    return abs(state[0]-goal_state[0])+abs(state[1]-goal_state[1])"
      ],
      "metadata": {
        "id": "lIHUumz-enDd"
      },
      "execution_count": null,
      "outputs": []
    },
    {
      "cell_type": "code",
      "source": [
        "def generateNextStates(state):\n",
        "    x,y=state\n",
        "    next_states=[(x+1,y),(x-1,y),(x,y+1),(x,y-1)]\n",
        "    return [s for s in next_states if 0<=s[0]<=4 and 0<=s[1]<=4]\n",
        "\n",
        "initial_state=(0,0)\n",
        "goal_state=(4,4)\n",
        "\n",
        "solution=bestFirstSearch(initial_state, goal_state, evaluationfunction)\n",
        "print(\"solution\",solution)"
      ],
      "metadata": {
        "colab": {
          "base_uri": "https://localhost:8080/"
        },
        "id": "zGJKBBgBewdB",
        "outputId": "7053330f-148d-42db-8eb9-18c1388d48a6"
      },
      "execution_count": null,
      "outputs": [
        {
          "output_type": "stream",
          "name": "stdout",
          "text": [
            "solution (4, 4)\n"
          ]
        }
      ]
    },
    {
      "cell_type": "code",
      "execution_count": null,
      "metadata": {
        "id": "8BCzuRzOwe2T"
      },
      "outputs": [],
      "source": [
        "# part 03\n",
        "from copy import deepcopy\n",
        "import numpy as np\n",
        "import time"
      ]
    },
    {
      "cell_type": "code",
      "source": [
        "def bestsolution(state):\n",
        "    bestsol = np.array([], int).reshape(-1, 9)\n",
        "    count = len(state) - 1\n",
        "    while count != -1:\n",
        "      bestsol = np.insert(bestsol,0,state[count]['puzzle'],0)\n",
        "      count = state[count]['parent']\n",
        "      return bestsol.reshape(-1,3,3)"
      ],
      "metadata": {
        "id": "bICH653P38Y8"
      },
      "execution_count": null,
      "outputs": []
    },
    {
      "cell_type": "code",
      "source": [
        "def all(checkarray):\n",
        "  set = []\n",
        "  for it in set:\n",
        "    for checkarray in it:\n",
        "      return 1\n",
        "    else:\n",
        "      return 0"
      ],
      "metadata": {
        "id": "8u0ans715Wj2"
      },
      "execution_count": null,
      "outputs": []
    },
    {
      "cell_type": "code",
      "source": [
        "def misplaced_tiles(puzzle,goal):\n",
        "  mscost = np.sum(puzzle != goal) -1\n",
        "  return mscost if mscost > 0 else 0"
      ],
      "metadata": {
        "id": "NmdsXJvx4OCs"
      },
      "execution_count": null,
      "outputs": []
    },
    {
      "cell_type": "code",
      "source": [
        "def coordinate(puzzle):\n",
        "  pos = np.array(range(9))\n",
        "  for p,q in enumerate(puzzle):\n",
        "    pos[q] = p\n",
        "    return pos"
      ],
      "metadata": {
        "id": "Gju7rngf7AXy"
      },
      "execution_count": null,
      "outputs": []
    },
    {
      "cell_type": "code",
      "source": [
        "def evaluate_misplaced(puzzle, goal):\n",
        "  steps = np.array([\n",
        "      ('up',[0,1,2], -3),\n",
        "      ('down',[6,7,8], 3),\n",
        "      ('left',[0,3,6], -1),\n",
        "      ('right',[2,5,8], 1)\n",
        "  ],dtype=[('move', str, 1),('position', list),('head', int)])\n",
        "  dtstate = [('puzzle', list),('parent', int), ('gn', int), ('hn', int)]\n",
        "  costg = coordinates(goal)\n",
        "  parent = -1\n",
        "  gn = 0\n",
        "  hn = misplaced_tiles(coordinates(puzzle), costg)\n",
        "  state = np .array([(puzzle, parent, gn, hn)], dtstate)\n",
        "  dtpriority = [('position', int), ('fn', int)]\n",
        "  priority = np.array([(0, hn)], dtpriority)\n",
        "  while True:\n",
        "    priority = np.sort(priority, kind='mergesort', order=['fn', 'position'])\n",
        "    position, fn = priority[0]\n",
        "    priority = np.delete(priority, 0,0)\n",
        "    puzzle, parent, gn, hn = state[position]\n",
        "    puzzle = np.array(puzzle)\n",
        "    blank = int(np.where(puzzle == 0)[0])\n",
        "    gn = gn + 1\n",
        "    c = 1\n",
        "    start_time = time.time()\n",
        "    for s in steps:\n",
        "      c = c + 1\n",
        "      if blank not in s['position']:\n",
        "        openstates = deepcopy(state)\n",
        "        openstates[blank], openstates[blank + s['head']] = openstates[blank + s['head']]\n",
        "\n",
        "        if not (np.all(list(state['puzzle']) == openstates,1)).any():\n",
        "          end_time = time.time()\n",
        "          if (end_time - start_time) > 2:\n",
        "            print(\"The 8-puzzle is unsolvable\\n\")\n",
        "            break\n",
        "          hn = misplaced_tiles(coordinates(openstates), costg)\n",
        "          q = np.array([(openstates, position, gn, hn)], dtstate)\n",
        "          state = np.append(state, q, 0)\n",
        "          fn = gn + hn\n",
        "          q = np.array([(len(state) - 1, fn)], dtpriority)\n",
        "          priority = np.append(priority, q, 0)\n",
        "          if np.array_equal(openstates, goal):\n",
        "            print('The 8-puzzle is solvable\\n')\n",
        "            return state,len(priority)\n",
        "  return state,len(priority)\n"
      ],
      "metadata": {
        "id": "LmCxoUFG70B8"
      },
      "execution_count": null,
      "outputs": []
    },
    {
      "cell_type": "code",
      "source": [
        "puzzle = []\n",
        "\n",
        "puzzle.append(2)\n",
        "puzzle.append(8)\n",
        "puzzle.append(3)\n",
        "puzzle.append(1)\n",
        "puzzle.append(6)\n",
        "puzzle.append(4)\n",
        "puzzle.append(7)\n",
        "puzzle.append(0)\n",
        "puzzle.append(5)\n"
      ],
      "metadata": {
        "id": "r7q1EeFcHyxb"
      },
      "execution_count": null,
      "outputs": []
    },
    {
      "cell_type": "code",
      "source": [
        "goal = []\n",
        "\n",
        "goal.append(1)\n",
        "goal.append(2)\n",
        "goal.append(3)\n",
        "goal.append(8)\n",
        "goal.append(0)\n",
        "goal.append(4)\n",
        "goal.append(7)\n",
        "goal.append(6)\n",
        "goal.append(5)\n"
      ],
      "metadata": {
        "id": "mHM4cuBO9TC-"
      },
      "execution_count": null,
      "outputs": []
    },
    {
      "cell_type": "code",
      "source": [
        "state, visited = evaluvate_misplaced(puzzle, goal)\n",
        "bestpath = bestsolution(state)\n",
        "print(str(bestpath).replace('[', ' ').replace(']', ''))\n",
        "totalmoves = len(bestpath) - 1\n",
        "print('\\nSteps to reach goal:',totalmoves)\n",
        "visit = len(state) - visited\n",
        "print('Total nodes visited: ',visit, \"\\n\")"
      ],
      "metadata": {
        "colab": {
          "base_uri": "https://localhost:8080/",
          "height": 211
        },
        "id": "DjTTfG6Bfr1p",
        "outputId": "f0ee994b-9f61-40a6-88aa-574211aad5c9"
      },
      "execution_count": null,
      "outputs": [
        {
          "output_type": "error",
          "ename": "NameError",
          "evalue": "name 'evaluvate_misplaced' is not defined",
          "traceback": [
            "\u001b[0;31m---------------------------------------------------------------------------\u001b[0m",
            "\u001b[0;31mNameError\u001b[0m                                 Traceback (most recent call last)",
            "\u001b[0;32m<ipython-input-55-6ef0a23ef6eb>\u001b[0m in \u001b[0;36m<cell line: 1>\u001b[0;34m()\u001b[0m\n\u001b[0;32m----> 1\u001b[0;31m \u001b[0mstate\u001b[0m\u001b[0;34m,\u001b[0m \u001b[0mvisited\u001b[0m \u001b[0;34m=\u001b[0m \u001b[0mevaluvate_misplaced\u001b[0m\u001b[0;34m(\u001b[0m\u001b[0mpuzzle\u001b[0m\u001b[0;34m,\u001b[0m \u001b[0mgoal\u001b[0m\u001b[0;34m)\u001b[0m\u001b[0;34m\u001b[0m\u001b[0;34m\u001b[0m\u001b[0m\n\u001b[0m\u001b[1;32m      2\u001b[0m \u001b[0mbestpath\u001b[0m \u001b[0;34m=\u001b[0m \u001b[0mbestsolution\u001b[0m\u001b[0;34m(\u001b[0m\u001b[0mstate\u001b[0m\u001b[0;34m)\u001b[0m\u001b[0;34m\u001b[0m\u001b[0;34m\u001b[0m\u001b[0m\n\u001b[1;32m      3\u001b[0m \u001b[0mprint\u001b[0m\u001b[0;34m(\u001b[0m\u001b[0mstr\u001b[0m\u001b[0;34m(\u001b[0m\u001b[0mbestpath\u001b[0m\u001b[0;34m)\u001b[0m\u001b[0;34m.\u001b[0m\u001b[0mreplace\u001b[0m\u001b[0;34m(\u001b[0m\u001b[0;34m'['\u001b[0m\u001b[0;34m,\u001b[0m \u001b[0;34m' '\u001b[0m\u001b[0;34m)\u001b[0m\u001b[0;34m.\u001b[0m\u001b[0mreplace\u001b[0m\u001b[0;34m(\u001b[0m\u001b[0;34m']'\u001b[0m\u001b[0;34m,\u001b[0m \u001b[0;34m''\u001b[0m\u001b[0;34m)\u001b[0m\u001b[0;34m)\u001b[0m\u001b[0;34m\u001b[0m\u001b[0;34m\u001b[0m\u001b[0m\n\u001b[1;32m      4\u001b[0m \u001b[0mtotalmoves\u001b[0m \u001b[0;34m=\u001b[0m \u001b[0mlen\u001b[0m\u001b[0;34m(\u001b[0m\u001b[0mbestpath\u001b[0m\u001b[0;34m)\u001b[0m \u001b[0;34m-\u001b[0m \u001b[0;36m1\u001b[0m\u001b[0;34m\u001b[0m\u001b[0;34m\u001b[0m\u001b[0m\n\u001b[1;32m      5\u001b[0m \u001b[0mprint\u001b[0m\u001b[0;34m(\u001b[0m\u001b[0;34m'\\nSteps to reach goal:'\u001b[0m\u001b[0;34m,\u001b[0m\u001b[0mtotalmoves\u001b[0m\u001b[0;34m)\u001b[0m\u001b[0;34m\u001b[0m\u001b[0;34m\u001b[0m\u001b[0m\n",
            "\u001b[0;31mNameError\u001b[0m: name 'evaluvate_misplaced' is not defined"
          ]
        }
      ]
    }
  ]
}